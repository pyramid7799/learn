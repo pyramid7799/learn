{
 "metadata": {
  "language_info": {
   "codemirror_mode": {
    "name": "ipython",
    "version": 3
   },
   "file_extension": ".py",
   "mimetype": "text/x-python",
   "name": "python",
   "nbconvert_exporter": "python",
   "pygments_lexer": "ipython3",
   "version": "3.9.4"
  },
  "orig_nbformat": 2,
  "kernelspec": {
   "name": "python394jvsc74a57bd0ee5cc6fef2d70a7e71ee3826687cbd150f18158e0b1eef11d4f4f92bb920e304",
   "display_name": "Python 3.9.4 64-bit"
  },
  "metadata": {
   "interpreter": {
    "hash": "ee5cc6fef2d70a7e71ee3826687cbd150f18158e0b1eef11d4f4f92bb920e304"
   }
  }
 },
 "nbformat": 4,
 "nbformat_minor": 2,
 "cells": [
  {
   "cell_type": "code",
   "execution_count": 2,
   "metadata": {},
   "outputs": [],
   "source": [
    "import pyspark\n",
    "import pandas as pd \n",
    "\n",
    "df = pd.read_csv('FB.csv')\n"
   ]
  },
  {
   "cell_type": "code",
   "execution_count": 3,
   "metadata": {},
   "outputs": [
    {
     "output_type": "execute_result",
     "data": {
      "text/plain": [
       "         Date     ID      Close        Low       High    Volume  C(t-5)  \\\n",
       "0  2012-07-09  41099  31.730000  31.260000  31.900000  10945600   31.10   \n",
       "1  2012-07-10  41100  32.169998  31.990000  32.880001  17785200   30.77   \n",
       "2  2012-07-11  41101  31.469999  31.160000  32.480000  14269500   31.20   \n",
       "3  2012-07-12  41102  30.969999  30.549999  31.559999  13030300   31.47   \n",
       "4  2012-07-13  41103  30.809999  30.600000  31.400000  11300700   31.73   \n",
       "\n",
       "   C(t-4)  C(t-3)  C(t-2)  ...  CCI200-200  ADO>ADOt-1  HIS  DAX  AORD  N100  \\\n",
       "0   30.77   31.20   31.47  ...           1           0    0    0     0     0   \n",
       "1   31.20   31.47   31.73  ...           1           0    0    1     0     1   \n",
       "2   31.47   31.73   32.17  ...           0           1    1    1     0     0   \n",
       "3   31.73   32.17   31.47  ...           0           1    0    0     0     0   \n",
       "4   32.17   31.47   30.97  ...           0           0    1    1     1     1   \n",
       "\n",
       "   N225  SP500  SSE  Closing_Direction  \n",
       "0     0      0    0                  1  \n",
       "1     0      0    0                  0  \n",
       "2     0      0    1                  0  \n",
       "3     0      0    1                  0  \n",
       "4     1      0    1                  0  \n",
       "\n",
       "[5 rows x 44 columns]"
      ],
      "text/html": "<div>\n<style scoped>\n    .dataframe tbody tr th:only-of-type {\n        vertical-align: middle;\n    }\n\n    .dataframe tbody tr th {\n        vertical-align: top;\n    }\n\n    .dataframe thead th {\n        text-align: right;\n    }\n</style>\n<table border=\"1\" class=\"dataframe\">\n  <thead>\n    <tr style=\"text-align: right;\">\n      <th></th>\n      <th>Date</th>\n      <th>ID</th>\n      <th>Close</th>\n      <th>Low</th>\n      <th>High</th>\n      <th>Volume</th>\n      <th>C(t-5)</th>\n      <th>C(t-4)</th>\n      <th>C(t-3)</th>\n      <th>C(t-2)</th>\n      <th>...</th>\n      <th>CCI200-200</th>\n      <th>ADO&gt;ADOt-1</th>\n      <th>HIS</th>\n      <th>DAX</th>\n      <th>AORD</th>\n      <th>N100</th>\n      <th>N225</th>\n      <th>SP500</th>\n      <th>SSE</th>\n      <th>Closing_Direction</th>\n    </tr>\n  </thead>\n  <tbody>\n    <tr>\n      <th>0</th>\n      <td>2012-07-09</td>\n      <td>41099</td>\n      <td>31.730000</td>\n      <td>31.260000</td>\n      <td>31.900000</td>\n      <td>10945600</td>\n      <td>31.10</td>\n      <td>30.77</td>\n      <td>31.20</td>\n      <td>31.47</td>\n      <td>...</td>\n      <td>1</td>\n      <td>0</td>\n      <td>0</td>\n      <td>0</td>\n      <td>0</td>\n      <td>0</td>\n      <td>0</td>\n      <td>0</td>\n      <td>0</td>\n      <td>1</td>\n    </tr>\n    <tr>\n      <th>1</th>\n      <td>2012-07-10</td>\n      <td>41100</td>\n      <td>32.169998</td>\n      <td>31.990000</td>\n      <td>32.880001</td>\n      <td>17785200</td>\n      <td>30.77</td>\n      <td>31.20</td>\n      <td>31.47</td>\n      <td>31.73</td>\n      <td>...</td>\n      <td>1</td>\n      <td>0</td>\n      <td>0</td>\n      <td>1</td>\n      <td>0</td>\n      <td>1</td>\n      <td>0</td>\n      <td>0</td>\n      <td>0</td>\n      <td>0</td>\n    </tr>\n    <tr>\n      <th>2</th>\n      <td>2012-07-11</td>\n      <td>41101</td>\n      <td>31.469999</td>\n      <td>31.160000</td>\n      <td>32.480000</td>\n      <td>14269500</td>\n      <td>31.20</td>\n      <td>31.47</td>\n      <td>31.73</td>\n      <td>32.17</td>\n      <td>...</td>\n      <td>0</td>\n      <td>1</td>\n      <td>1</td>\n      <td>1</td>\n      <td>0</td>\n      <td>0</td>\n      <td>0</td>\n      <td>0</td>\n      <td>1</td>\n      <td>0</td>\n    </tr>\n    <tr>\n      <th>3</th>\n      <td>2012-07-12</td>\n      <td>41102</td>\n      <td>30.969999</td>\n      <td>30.549999</td>\n      <td>31.559999</td>\n      <td>13030300</td>\n      <td>31.47</td>\n      <td>31.73</td>\n      <td>32.17</td>\n      <td>31.47</td>\n      <td>...</td>\n      <td>0</td>\n      <td>1</td>\n      <td>0</td>\n      <td>0</td>\n      <td>0</td>\n      <td>0</td>\n      <td>0</td>\n      <td>0</td>\n      <td>1</td>\n      <td>0</td>\n    </tr>\n    <tr>\n      <th>4</th>\n      <td>2012-07-13</td>\n      <td>41103</td>\n      <td>30.809999</td>\n      <td>30.600000</td>\n      <td>31.400000</td>\n      <td>11300700</td>\n      <td>31.73</td>\n      <td>32.17</td>\n      <td>31.47</td>\n      <td>30.97</td>\n      <td>...</td>\n      <td>0</td>\n      <td>0</td>\n      <td>1</td>\n      <td>1</td>\n      <td>1</td>\n      <td>1</td>\n      <td>1</td>\n      <td>0</td>\n      <td>1</td>\n      <td>0</td>\n    </tr>\n  </tbody>\n</table>\n<p>5 rows × 44 columns</p>\n</div>"
     },
     "metadata": {},
     "execution_count": 3
    }
   ],
   "source": [
    "df.head()"
   ]
  },
  {
   "cell_type": "code",
   "execution_count": 4,
   "metadata": {},
   "outputs": [],
   "source": [
    "from pyspark.sql import SparkSession\n",
    "spark = SparkSession.builder.appName('Practise').getOrCreate()\n"
   ]
  },
  {
   "cell_type": "code",
   "execution_count": 5,
   "metadata": {},
   "outputs": [
    {
     "output_type": "execute_result",
     "data": {
      "text/plain": [
       "<pyspark.sql.session.SparkSession at 0x2360223e760>"
      ],
      "text/html": "\n            <div>\n                <p><b>SparkSession - in-memory</b></p>\n                \n        <div>\n            <p><b>SparkContext</b></p>\n\n            <p><a href=\"http://VRLP:4040\">Spark UI</a></p>\n\n            <dl>\n              <dt>Version</dt>\n                <dd><code>v3.1.1</code></dd>\n              <dt>Master</dt>\n                <dd><code>local[*]</code></dd>\n              <dt>AppName</dt>\n                <dd><code>Practise</code></dd>\n            </dl>\n        </div>\n        \n            </div>\n        "
     },
     "metadata": {},
     "execution_count": 5
    }
   ],
   "source": [
    "spark"
   ]
  },
  {
   "cell_type": "code",
   "execution_count": 22,
   "metadata": {},
   "outputs": [
    {
     "output_type": "error",
     "ename": "AttributeError",
     "evalue": "'function' object has no attribute 'read'",
     "traceback": [
      "\u001b[1;31m---------------------------------------------------------------------------\u001b[0m",
      "\u001b[1;31mAttributeError\u001b[0m                            Traceback (most recent call last)",
      "\u001b[1;32m<ipython-input-22-cca77a92f2d2>\u001b[0m in \u001b[0;36m<module>\u001b[1;34m\u001b[0m\n\u001b[1;32m----> 1\u001b[1;33m \u001b[0mdf_pyspark\u001b[0m \u001b[1;33m=\u001b[0m \u001b[0mspark\u001b[0m\u001b[1;33m.\u001b[0m\u001b[0mread\u001b[0m\u001b[1;33m.\u001b[0m\u001b[0moption\u001b[0m\u001b[1;33m(\u001b[0m\u001b[1;34m'header'\u001b[0m\u001b[1;33m,\u001b[0m\u001b[1;34m'true'\u001b[0m\u001b[1;33m)\u001b[0m\u001b[1;33m.\u001b[0m\u001b[0mcsv\u001b[0m\u001b[1;33m(\u001b[0m\u001b[1;34m\"FB.csv\"\u001b[0m\u001b[1;33m,\u001b[0m\u001b[0minferSchema\u001b[0m\u001b[1;33m=\u001b[0m\u001b[1;32mTrue\u001b[0m\u001b[1;33m)\u001b[0m\u001b[1;33m\u001b[0m\u001b[1;33m\u001b[0m\u001b[0m\n\u001b[0m",
      "\u001b[1;31mAttributeError\u001b[0m: 'function' object has no attribute 'read'"
     ]
    }
   ],
   "source": [
    "df_pyspark = spark.read.option('header','true').csv(\"FB.csv\",inferSchema=True)"
   ]
  },
  {
   "cell_type": "code",
   "execution_count": 11,
   "metadata": {},
   "outputs": [
    {
     "output_type": "execute_result",
     "data": {
      "text/plain": [
       "Row(Date='2012-07-09', ID='41099', Close='31.73', Low='31.26', High='31.9', Volume='10945600', C(t-5)='31.1', C(t-4)='30.77', C(t-3)='31.2', C(t-2)='31.47', C(t-4)>C(t-5)='0', C(t-3)>C(t-4)='1', C(t-2)>C(t-3)='1', C(t-1)>C(t-2)='1', MA-10='28.5', MA-5='31.25', WMA-10='31.53', SO='57.43', M='-1.32', SSO='0.61', EMA='31.78', MACD_Sline_9='0.7', RSI='45.47', CCI='37.34', ADO='0.47', MA-10>C='1', MA-5>C='1', WMA-10>C='1', SO>SOt-1='0', M>0='0', SSO>SSOt-1='1', EMA>C='0', MACD t-1 > MACD t-2='0', RSI70-30='1', CCI200-200='1', ADO>ADOt-1='0', HIS='0', DAX='0', AORD='0', N100='0', N225='0', SP500='0', SSE='0', Closing_Direction='1')"
      ]
     },
     "metadata": {},
     "execution_count": 11
    }
   ],
   "source": [
    "df_pyspark.head()"
   ]
  },
  {
   "cell_type": "code",
   "execution_count": 12,
   "metadata": {},
   "outputs": [
    {
     "output_type": "execute_result",
     "data": {
      "text/plain": [
       "pyspark.sql.dataframe.DataFrame"
      ]
     },
     "metadata": {},
     "execution_count": 12
    }
   ],
   "source": [
    "type(df_pyspark)"
   ]
  },
  {
   "cell_type": "code",
   "execution_count": 13,
   "metadata": {},
   "outputs": [
    {
     "output_type": "execute_result",
     "data": {
      "text/plain": [
       "Row(Date='2012-07-09', ID='41099', Close='31.73', Low='31.26', High='31.9', Volume='10945600', C(t-5)='31.1', C(t-4)='30.77', C(t-3)='31.2', C(t-2)='31.47', C(t-4)>C(t-5)='0', C(t-3)>C(t-4)='1', C(t-2)>C(t-3)='1', C(t-1)>C(t-2)='1', MA-10='28.5', MA-5='31.25', WMA-10='31.53', SO='57.43', M='-1.32', SSO='0.61', EMA='31.78', MACD_Sline_9='0.7', RSI='45.47', CCI='37.34', ADO='0.47', MA-10>C='1', MA-5>C='1', WMA-10>C='1', SO>SOt-1='0', M>0='0', SSO>SSOt-1='1', EMA>C='0', MACD t-1 > MACD t-2='0', RSI70-30='1', CCI200-200='1', ADO>ADOt-1='0', HIS='0', DAX='0', AORD='0', N100='0', N225='0', SP500='0', SSE='0', Closing_Direction='1')"
      ]
     },
     "metadata": {},
     "execution_count": 13
    }
   ],
   "source": [
    "df_pyspark.head()"
   ]
  },
  {
   "cell_type": "code",
   "execution_count": 14,
   "metadata": {},
   "outputs": [
    {
     "output_type": "stream",
     "name": "stdout",
     "text": [
      "root\n |-- Date: string (nullable = true)\n |-- ID: string (nullable = true)\n |-- Close: string (nullable = true)\n |-- Low: string (nullable = true)\n |-- High: string (nullable = true)\n |-- Volume: string (nullable = true)\n |-- C(t-5): string (nullable = true)\n |-- C(t-4): string (nullable = true)\n |-- C(t-3): string (nullable = true)\n |-- C(t-2): string (nullable = true)\n |-- C(t-4)>C(t-5): string (nullable = true)\n |-- C(t-3)>C(t-4): string (nullable = true)\n |-- C(t-2)>C(t-3): string (nullable = true)\n |-- C(t-1)>C(t-2): string (nullable = true)\n |-- MA-10: string (nullable = true)\n |-- MA-5: string (nullable = true)\n |-- WMA-10: string (nullable = true)\n |-- SO: string (nullable = true)\n |-- M: string (nullable = true)\n |-- SSO: string (nullable = true)\n |-- EMA: string (nullable = true)\n |-- MACD_Sline_9: string (nullable = true)\n |-- RSI: string (nullable = true)\n |-- CCI: string (nullable = true)\n |-- ADO: string (nullable = true)\n |-- MA-10>C: string (nullable = true)\n |-- MA-5>C: string (nullable = true)\n |-- WMA-10>C: string (nullable = true)\n |-- SO>SOt-1: string (nullable = true)\n |-- M>0: string (nullable = true)\n |-- SSO>SSOt-1: string (nullable = true)\n |-- EMA>C: string (nullable = true)\n |-- MACD t-1 > MACD t-2: string (nullable = true)\n |-- RSI70-30: string (nullable = true)\n |-- CCI200-200: string (nullable = true)\n |-- ADO>ADOt-1: string (nullable = true)\n |-- HIS: string (nullable = true)\n |-- DAX: string (nullable = true)\n |-- AORD: string (nullable = true)\n |-- N100: string (nullable = true)\n |-- N225: string (nullable = true)\n |-- SP500: string (nullable = true)\n |-- SSE: string (nullable = true)\n |-- Closing_Direction: string (nullable = true)\n\n"
     ]
    }
   ],
   "source": [
    "df_pyspark.printSchema()"
   ]
  },
  {
   "cell_type": "code",
   "execution_count": 19,
   "metadata": {},
   "outputs": [
    {
     "output_type": "execute_result",
     "data": {
      "text/plain": [
       "DataFrame[Date: string, ID: string, Close: string, Low: string, High: string, Volume: string, C(t-5): string, C(t-4): string, C(t-3): string, C(t-2): string, C(t-4)>C(t-5): string, C(t-3)>C(t-4): string, C(t-2)>C(t-3): string, C(t-1)>C(t-2): string, MA-10: string, MA-5: string, WMA-10: string, SO: string, M: string, SSO: string, EMA: string, MACD_Sline_9: string, RSI: string, CCI: string, ADO: string, MA-10>C: string, MA-5>C: string, WMA-10>C: string, SO>SOt-1: string, M>0: string, SSO>SSOt-1: string, EMA>C: string, MACD t-1 > MACD t-2: string, RSI70-30: string, CCI200-200: string, ADO>ADOt-1: string, HIS: string, DAX: string, AORD: string, N100: string, N225: string, SP500: string, SSE: string, Closing_Direction: string]"
      ]
     },
     "metadata": {},
     "execution_count": 19
    }
   ],
   "source": [
    "df_pyspark"
   ]
  },
  {
   "cell_type": "code",
   "execution_count": 20,
   "metadata": {},
   "outputs": [
    {
     "output_type": "stream",
     "name": "stdout",
     "text": [
      "+----------+-----+---------+---------+---------+---------+------+------+------+------+-------------+-------------+-------------+-------------+-----+-----+------+-----+-----+----+-----+------------+-----+-------+-----+-------+------+--------+--------+---+----------+-----+-------------------+--------+----------+----------+---+---+----+----+----+-----+---+-----------------+\n|      Date|   ID|    Close|      Low|     High|   Volume|C(t-5)|C(t-4)|C(t-3)|C(t-2)|C(t-4)>C(t-5)|C(t-3)>C(t-4)|C(t-2)>C(t-3)|C(t-1)>C(t-2)|MA-10| MA-5|WMA-10|   SO|    M| SSO|  EMA|MACD_Sline_9|  RSI|    CCI|  ADO|MA-10>C|MA-5>C|WMA-10>C|SO>SOt-1|M>0|SSO>SSOt-1|EMA>C|MACD t-1 > MACD t-2|RSI70-30|CCI200-200|ADO>ADOt-1|HIS|DAX|AORD|N100|N225|SP500|SSE|Closing_Direction|\n+----------+-----+---------+---------+---------+---------+------+------+------+------+-------------+-------------+-------------+-------------+-----+-----+------+-----+-----+----+-----+------------+-----+-------+-----+-------+------+--------+--------+---+----------+-----+-------------------+--------+----------+----------+---+---+----+----+----+-----+---+-----------------+\n|2012-07-09|41099|    31.73|    31.26|     31.9| 10945600|  31.1| 30.77|  31.2| 31.47|            0|            1|            1|            1| 28.5|31.25| 31.53|57.43|-1.32|0.61|31.78|         0.7|45.47|  37.34| 0.47|      1|     1|       1|       0|  0|         1|    0|                  0|       1|         1|         0|  0|  0|   0|   0|   0|    0|  0|                1|\n|2012-07-10|41100|32.169998|    31.99|32.880001| 17785200| 30.77|  31.2| 31.47| 31.73|            1|            1|            1|            1|28.51|31.47|  31.6|55.86| 0.11|0.59|32.25|        0.68| 47.6|  65.86| -0.6|      1|     1|       1|       0|  1|         0|    0|                  0|       1|         1|         0|  0|  1|   0|   1|   0|    0|  0|                0|\n|2012-07-11|41101|31.469999|    31.16|    32.48| 14269500|  31.2| 31.47| 31.73| 32.17|            1|            1|            1|            0|28.35|31.61| 31.55|31.72|-1.63|0.49|31.31|        0.66|44.61|  27.85|-0.53|      1|     0|       0|       0|  0|         0|    1|                  0|       0|         0|         1|  1|  1|   0|   0|   0|    0|  1|                0|\n|2012-07-12|41102|30.969999|30.549999|31.559999| 13030300| 31.47| 31.73| 32.17| 31.47|            1|            1|            0|            0|28.22|31.56| 31.43|14.48|-1.26|0.34| 30.9|        0.62|42.56| -29.06|-0.17|      1|     0|       0|       0|  0|         0|    1|                  0|       0|         0|         1|  0|  0|   0|   0|   0|    0|  1|                0|\n|2012-07-13|41103|30.809999|     30.6|     31.4| 11300700| 31.73| 32.17| 31.47| 30.97|            1|            0|            0|            0|28.17|31.43| 31.31| 8.97|-0.55|0.18|30.79|        0.58|41.89| -58.62|-0.48|      1|     0|       0|       0|  0|         0|    1|                  0|       0|         0|         0|  1|  1|   1|   1|   1|    0|  1|                0|\n|2012-07-16|41106|30.719999|30.559999|    31.07|  8108300| 32.17| 31.47| 30.97| 30.81|            0|            0|            0|            0|28.13|31.23| 31.21| 5.88|-0.38| 0.1|30.71|        0.53| 41.5| -95.64|-0.37|      1|     0|       0|       0|  0|         0|    1|                  0|       0|         0|         1|  1|  1|   1|   1|   1|    1|  0|                0|\n|2012-07-17|41107|    28.25|28.209999|     30.5| 24672100| 31.47| 30.97| 30.81| 30.72|            0|            0|            0|            0|27.88|30.44| 30.66| 1.38|-2.52|0.05|27.76|        0.43| 32.5|-278.88|-0.97|      1|     0|       0|       0|  0|         0|    1|                  0|       0|         1|         0|  1|  1|   1|   0|   1|    0|  1|                0|\n|2012-07-18|41108|    28.09|    27.15|    28.59| 30438600| 30.97| 30.81| 30.72| 28.25|            0|            0|            0|            0|27.57|29.77| 30.14|20.04|-3.11|0.11|28.16|        0.32|32.01|-291.78| 0.31|      1|     0|       0|       1|  0|         1|    0|                  0|       0|         1|         1|  0|  1|   0|   1|   0|    1|  1|                1|\n|2012-07-19|41109|29.110001|    28.15|29.290001| 16841800| 30.81| 30.72| 28.25| 28.09|            0|            0|            0|            1|27.33| 29.4| 29.85|34.21|-2.36|0.22| 29.3|         0.2|38.33|-172.06| 0.68|      1|     0|       0|       1|  0|         1|    0|                  0|       1|         1|         1|  1|  1|   1|   1|   1|    1|  1|                0|\n|2012-07-20|41110|       29|28.629999|     29.5| 13685100| 30.72| 28.25| 28.09| 29.11|            0|            0|            1|            0|27.06|29.03| 29.59|32.29|-2.73|0.29|28.94|         0.1|37.92|-130.31|-0.15|      1|     0|       0|       0|  0|         1|    1|                  0|       0|         1|         0|  1|  0|   0|   0|   0|    1|  0|                0|\n|2012-07-23|41113|    28.76|28.719999|29.469999| 11869100| 28.25| 28.09| 29.11|    29|            0|            1|            0|            0|26.72|28.64| 29.32| 28.1|-3.41|0.32|28.72|           0|36.99|-108.09|-0.89|      1|     1|       0|       0|  0|         1|    1|                  0|       0|         1|         0|  0|  0|   0|   0|   0|    0|  0|                0|\n|2012-07-24|41114|    28.75|    28.01|       29| 12390700| 28.09| 29.11|    29| 28.76|            1|            0|            0|            0|26.45|28.74|  29.1|27.92|-2.72|0.29|28.76|       -0.09|36.95|-111.98| 0.49|      1|     1|       0|       0|  0|         0|    0|                  0|       0|         0|         1|  0|  0|   1|   0|   0|    0|  1|                0|\n|2012-07-25|41115|28.450001|     28.1|29.450001| 11539800| 29.11|    29| 28.76| 28.75|            0|            0|            0|            0|26.19|28.81| 28.89|22.69|-2.52|0.26|28.39|       -0.17|35.68| -88.76|-0.48|      1|     0|       0|       0|  0|         0|    1|                  0|       0|         1|         0|  0|  1|   0|   1|   0|    0|  0|                1|\n|2012-07-26|41116|    29.34|    28.08|    29.49| 17230200|    29| 28.76| 28.75| 28.45|            0|            0|            0|            1|26.05|28.86|  28.9|38.22|-1.47| 0.3|29.53|       -0.23|42.02| -65.56| 0.79|      1|     1|       1|       1|  0|         1|    0|                  0|       1|         1|         1|  1|  1|   1|   1|   1|    0|  0|                0|\n|2012-07-27|41117|    26.85|    26.73|    28.23| 64597400| 28.76| 28.75| 28.45| 29.34|            0|            0|            1|            0|25.66|28.43| 28.49| 2.09|-3.87|0.21|26.31|       -0.31| 32.4|-134.38|-0.84|      0|     0|       0|       0|  0|         0|    1|                  0|       0|         0|         0|  1|  1|   1|   1|   1|    1|  1|                0|\n|2012-07-30|41120|23.709999|22.280001|24.540001|123102300| 28.75| 28.45| 29.34| 26.85|            0|            1|            0|            0|25.21|27.42| 27.58|24.87|-4.54|0.22|23.19|       -0.46|24.72|-251.14| 0.27|      0|     0|       0|       1|  0|         1|    1|                  0|       1|         1|         1|  1|  1|   1|   1|   1|    1|  0|                0|\n|2012-07-31|41121|    23.15|23.030001|24.040001| 29285900| 28.45| 29.34| 26.85| 23.71|            1|            0|            0|            0|24.71| 26.3| 26.69| 9.37|-4.94|0.12|23.14|       -0.63|23.64|-214.18|-0.76|      0|     0|       0|       0|  0|         0|    1|                  0|       1|         1|         0|  1|  0|   1|   0|   1|    0|  0|                0|\n|2012-08-01|41122|21.709999|21.610001|23.370001| 56179400| 29.34| 26.85| 23.71| 23.15|            0|            0|            0|            0|23.97|24.95| 25.63|  1.1| -7.4| 0.1|21.42|       -0.85| 21.1|-208.63|-0.89|      0|     0|       0|       0|  0|         0|    1|                  0|       1|         1|         0|  1|  0|   0|   1|   0|    0|  1|                0|\n|2012-08-02|41123|20.879999|    20.84|    21.58| 44604400| 26.85| 23.71| 23.15| 21.71|            0|            0|            0|            0|23.16|23.26| 24.54| 0.42|-8.12|0.04|20.77|       -1.09|19.78|-186.76|-0.89|      0|     0|       0|       0|  0|         0|    1|                  0|       1|         1|         0|  0|  0|   1|   0|   1|    0|  0|                0|\n|2012-08-03|41124|20.040001|    19.82|    20.84| 56374500| 23.71| 23.15| 21.71| 20.88|            0|            0|            0|            0|22.29| 21.9| 23.45| 2.28|-8.72|0.01|19.89|       -1.34|18.51|-164.37|-0.57|      0|     0|       0|       1|  0|         0|    1|                  0|       1|         1|         1|  0|  1|   0|   1|   0|    0|  1|                1|\n+----------+-----+---------+---------+---------+---------+------+------+------+------+-------------+-------------+-------------+-------------+-----+-----+------+-----+-----+----+-----+------------+-----+-------+-----+-------+------+--------+--------+---+----------+-----+-------------------+--------+----------+----------+---+---+----+----+----+-----+---+-----------------+\nonly showing top 20 rows\n\n"
     ]
    }
   ],
   "source": [
    "df_pyspark.show()"
   ]
  },
  {
   "cell_type": "code",
   "execution_count": 21,
   "metadata": {},
   "outputs": [
    {
     "output_type": "stream",
     "name": "stdout",
     "text": [
      "root\n |-- Date: string (nullable = true)\n |-- ID: string (nullable = true)\n |-- Close: string (nullable = true)\n |-- Low: string (nullable = true)\n |-- High: string (nullable = true)\n |-- Volume: string (nullable = true)\n |-- C(t-5): string (nullable = true)\n |-- C(t-4): string (nullable = true)\n |-- C(t-3): string (nullable = true)\n |-- C(t-2): string (nullable = true)\n |-- C(t-4)>C(t-5): string (nullable = true)\n |-- C(t-3)>C(t-4): string (nullable = true)\n |-- C(t-2)>C(t-3): string (nullable = true)\n |-- C(t-1)>C(t-2): string (nullable = true)\n |-- MA-10: string (nullable = true)\n |-- MA-5: string (nullable = true)\n |-- WMA-10: string (nullable = true)\n |-- SO: string (nullable = true)\n |-- M: string (nullable = true)\n |-- SSO: string (nullable = true)\n |-- EMA: string (nullable = true)\n |-- MACD_Sline_9: string (nullable = true)\n |-- RSI: string (nullable = true)\n |-- CCI: string (nullable = true)\n |-- ADO: string (nullable = true)\n |-- MA-10>C: string (nullable = true)\n |-- MA-5>C: string (nullable = true)\n |-- WMA-10>C: string (nullable = true)\n |-- SO>SOt-1: string (nullable = true)\n |-- M>0: string (nullable = true)\n |-- SSO>SSOt-1: string (nullable = true)\n |-- EMA>C: string (nullable = true)\n |-- MACD t-1 > MACD t-2: string (nullable = true)\n |-- RSI70-30: string (nullable = true)\n |-- CCI200-200: string (nullable = true)\n |-- ADO>ADOt-1: string (nullable = true)\n |-- HIS: string (nullable = true)\n |-- DAX: string (nullable = true)\n |-- AORD: string (nullable = true)\n |-- N100: string (nullable = true)\n |-- N225: string (nullable = true)\n |-- SP500: string (nullable = true)\n |-- SSE: string (nullable = true)\n |-- Closing_Direction: string (nullable = true)\n\n"
     ]
    }
   ],
   "source": [
    "df_pyspark.printSchema()"
   ]
  },
  {
   "cell_type": "code",
   "execution_count": 23,
   "metadata": {},
   "outputs": [
    {
     "output_type": "error",
     "ename": "AttributeError",
     "evalue": "'function' object has no attribute 'read'",
     "traceback": [
      "\u001b[1;31m---------------------------------------------------------------------------\u001b[0m",
      "\u001b[1;31mAttributeError\u001b[0m                            Traceback (most recent call last)",
      "\u001b[1;32m<ipython-input-23-cca77a92f2d2>\u001b[0m in \u001b[0;36m<module>\u001b[1;34m\u001b[0m\n\u001b[1;32m----> 1\u001b[1;33m \u001b[0mdf_pyspark\u001b[0m \u001b[1;33m=\u001b[0m \u001b[0mspark\u001b[0m\u001b[1;33m.\u001b[0m\u001b[0mread\u001b[0m\u001b[1;33m.\u001b[0m\u001b[0moption\u001b[0m\u001b[1;33m(\u001b[0m\u001b[1;34m'header'\u001b[0m\u001b[1;33m,\u001b[0m\u001b[1;34m'true'\u001b[0m\u001b[1;33m)\u001b[0m\u001b[1;33m.\u001b[0m\u001b[0mcsv\u001b[0m\u001b[1;33m(\u001b[0m\u001b[1;34m\"FB.csv\"\u001b[0m\u001b[1;33m,\u001b[0m\u001b[0minferSchema\u001b[0m\u001b[1;33m=\u001b[0m\u001b[1;32mTrue\u001b[0m\u001b[1;33m)\u001b[0m\u001b[1;33m\u001b[0m\u001b[1;33m\u001b[0m\u001b[0m\n\u001b[0m",
      "\u001b[1;31mAttributeError\u001b[0m: 'function' object has no attribute 'read'"
     ]
    }
   ],
   "source": [
    "df_pyspark = spark.read.option('header','true').csv(\"FB.csv\",inferSchema=True)"
   ]
  },
  {
   "cell_type": "code",
   "execution_count": 24,
   "metadata": {},
   "outputs": [
    {
     "output_type": "execute_result",
     "data": {
      "text/plain": [
       "<bound method SparkSession.Builder.getOrCreate of <pyspark.sql.session.SparkSession.Builder object at 0x000002366FDD2DC0>>"
      ]
     },
     "metadata": {},
     "execution_count": 24
    }
   ],
   "source": [
    "spark"
   ]
  },
  {
   "cell_type": "code",
   "execution_count": 25,
   "metadata": {},
   "outputs": [
    {
     "output_type": "stream",
     "name": "stdout",
     "text": [
      "root\n |-- Date: string (nullable = true)\n |-- ID: string (nullable = true)\n |-- Close: string (nullable = true)\n |-- Low: string (nullable = true)\n |-- High: string (nullable = true)\n |-- Volume: string (nullable = true)\n |-- C(t-5): string (nullable = true)\n |-- C(t-4): string (nullable = true)\n |-- C(t-3): string (nullable = true)\n |-- C(t-2): string (nullable = true)\n |-- C(t-4)>C(t-5): string (nullable = true)\n |-- C(t-3)>C(t-4): string (nullable = true)\n |-- C(t-2)>C(t-3): string (nullable = true)\n |-- C(t-1)>C(t-2): string (nullable = true)\n |-- MA-10: string (nullable = true)\n |-- MA-5: string (nullable = true)\n |-- WMA-10: string (nullable = true)\n |-- SO: string (nullable = true)\n |-- M: string (nullable = true)\n |-- SSO: string (nullable = true)\n |-- EMA: string (nullable = true)\n |-- MACD_Sline_9: string (nullable = true)\n |-- RSI: string (nullable = true)\n |-- CCI: string (nullable = true)\n |-- ADO: string (nullable = true)\n |-- MA-10>C: string (nullable = true)\n |-- MA-5>C: string (nullable = true)\n |-- WMA-10>C: string (nullable = true)\n |-- SO>SOt-1: string (nullable = true)\n |-- M>0: string (nullable = true)\n |-- SSO>SSOt-1: string (nullable = true)\n |-- EMA>C: string (nullable = true)\n |-- MACD t-1 > MACD t-2: string (nullable = true)\n |-- RSI70-30: string (nullable = true)\n |-- CCI200-200: string (nullable = true)\n |-- ADO>ADOt-1: string (nullable = true)\n |-- HIS: string (nullable = true)\n |-- DAX: string (nullable = true)\n |-- AORD: string (nullable = true)\n |-- N100: string (nullable = true)\n |-- N225: string (nullable = true)\n |-- SP500: string (nullable = true)\n |-- SSE: string (nullable = true)\n |-- Closing_Direction: string (nullable = true)\n\n"
     ]
    }
   ],
   "source": [
    "df_pyspark.printSchema()"
   ]
  },
  {
   "cell_type": "code",
   "execution_count": 26,
   "metadata": {},
   "outputs": [
    {
     "output_type": "error",
     "ename": "AttributeError",
     "evalue": "'function' object has no attribute 'read'",
     "traceback": [
      "\u001b[1;31m---------------------------------------------------------------------------\u001b[0m",
      "\u001b[1;31mAttributeError\u001b[0m                            Traceback (most recent call last)",
      "\u001b[1;32m<ipython-input-26-6287ca8dc0ad>\u001b[0m in \u001b[0;36m<module>\u001b[1;34m\u001b[0m\n\u001b[1;32m----> 1\u001b[1;33m \u001b[0mdf_pyspark\u001b[0m \u001b[1;33m=\u001b[0m \u001b[0mspark\u001b[0m\u001b[1;33m.\u001b[0m\u001b[0mread\u001b[0m\u001b[1;33m.\u001b[0m\u001b[0moption\u001b[0m\u001b[1;33m(\u001b[0m\u001b[1;34m'header'\u001b[0m\u001b[1;33m,\u001b[0m\u001b[1;34m'true'\u001b[0m\u001b[1;33m)\u001b[0m\u001b[1;33m.\u001b[0m\u001b[0mcsv\u001b[0m\u001b[1;33m(\u001b[0m\u001b[1;34m'FB.csv'\u001b[0m\u001b[1;33m,\u001b[0m\u001b[0minferSchema\u001b[0m\u001b[1;33m=\u001b[0m\u001b[1;32mTrue\u001b[0m\u001b[1;33m)\u001b[0m\u001b[1;33m\u001b[0m\u001b[1;33m\u001b[0m\u001b[0m\n\u001b[0m",
      "\u001b[1;31mAttributeError\u001b[0m: 'function' object has no attribute 'read'"
     ]
    }
   ],
   "source": [
    "df_pyspark = spark.read.option('header','true').csv('FB.csv',inferSchema=True)"
   ]
  },
  {
   "cell_type": "code",
   "execution_count": null,
   "metadata": {},
   "outputs": [],
   "source": []
  }
 ]
}