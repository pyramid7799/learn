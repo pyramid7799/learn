{
 "metadata": {
  "language_info": {
   "codemirror_mode": {
    "name": "ipython",
    "version": 3
   },
   "file_extension": ".py",
   "mimetype": "text/x-python",
   "name": "python",
   "nbconvert_exporter": "python",
   "pygments_lexer": "ipython3",
   "version": "3.9.4"
  },
  "orig_nbformat": 2,
  "kernelspec": {
   "name": "python394jvsc74a57bd0ee5cc6fef2d70a7e71ee3826687cbd150f18158e0b1eef11d4f4f92bb920e304",
   "display_name": "Python 3.9.4 64-bit"
  },
  "metadata": {
   "interpreter": {
    "hash": "ee5cc6fef2d70a7e71ee3826687cbd150f18158e0b1eef11d4f4f92bb920e304"
   }
  }
 },
 "nbformat": 4,
 "nbformat_minor": 2,
 "cells": [
  {
   "cell_type": "code",
   "execution_count": 96,
   "metadata": {},
   "outputs": [],
   "source": [
    "\n",
    "def import_data(file):\n",
    "    data = pd.read_csv(file)\n",
    "    data['Period'] = data['Year'].astype(str)+\"-\"+data['Month'].astype(str)\n",
    "    data['Period']= pd.to_datetime(data['Period']).dt.strftime(\"%Y-%m\")\n",
    "    df=pd.pivot_table(data=data,values='Quantity',index='Make',columns='Period',aggfunc='sum',fill_value=0)\n",
    "    return df\n",
    "\n",
    "\n",
    "\n",
    "def datasets(df,x_len=12,y_len=1,y_test_len=12):\n",
    "\n",
    "    D = df.values\n",
    "    periods = D.shape[1]\n",
    "\n",
    "    loops = periods + 1 - x_len - y_len - y_test_len\n",
    "    train =[]\n",
    "\n",
    "    for col in range(loops):\n",
    "        train.append(D[:,col:col+x_len+y_len])\n",
    "    train = np.vstack(train)\n",
    "    X_train,Y_train = np.split(train,[x_len],axis=1)\n",
    "\n",
    "\n",
    "    max_col_test = periods - x_len - y_len + 1\n",
    "    \n",
    "    test = []\n",
    "    for col in range(loops,max_col_test):\n",
    "        test.append(D[:,col:col+x_len+y_len])\n",
    "\n",
    "    test = np.vstack(test)\n",
    "    X_test,Y_test = np.split(test,[x_len],axis=1)\n",
    "\n",
    "    if y_len == 1:\n",
    "        Y_train = Y_train.ravel()\n",
    "        Y_test = Y_test.ravel()\n",
    "\n",
    "    return X_train,Y_train,X_test,Y_test\n",
    "\n"
   ]
  },
  {
   "cell_type": "code",
   "execution_count": 98,
   "metadata": {
    "tags": []
   },
   "outputs": [],
   "source": [
    "import numpy as np \n",
    "import pandas as pd \n",
    "\n",
    "file = 'norway_new_car_sales_by_make.csv'\n",
    "df = import_data(file)\n",
    "X_train,Y_train,X_test,Y_test = datasets(df)\n",
    "\n",
    "\n"
   ]
  },
  {
   "cell_type": "code",
   "execution_count": 105,
   "metadata": {},
   "outputs": [
    {
     "output_type": "stream",
     "name": "stdout",
     "text": [
      "Regression Train MAE %: 17.8\nRegression Test MAE %: 17.8\n"
     ]
    }
   ],
   "source": [
    "from sklearn.linear_model import LinearRegression\n",
    "reg = LinearRegression()\n",
    "reg = reg.fit(X_train,Y_train)\n",
    "\n",
    "Y_train_pred = reg.predict(X_train)\n",
    "Y_test_pred = reg.predict(X_test)\n",
    "MAE_train = np.mean(abs(Y_train-Y_train_pred))/np.mean(Y_train)\n",
    "MAE_test = np.mean(abs(Y_test-Y_test_pred))/np.mean(Y_test)\n",
    "print('Regression Train MAE %:',round(MAE_train*100,1))\n",
    "print('Regression Test MAE %:',round(MAE_test*100,1))"
   ]
  },
  {
   "cell_type": "code",
   "execution_count": 103,
   "metadata": {},
   "outputs": [],
   "source": []
  }
 ]
}